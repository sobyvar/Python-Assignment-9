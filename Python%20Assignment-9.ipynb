{
 "cells": [
  {
   "cell_type": "code",
   "execution_count": 1,
   "metadata": {},
   "outputs": [
    {
     "name": "stdout",
     "output_type": "stream",
     "text": [
      "              Id       Name  Year Gender State  Count\n",
      "0          11350       Emma  2004      F    AK     62\n",
      "1          11351    Madison  2004      F    AK     48\n",
      "2          11352     Hannah  2004      F    AK     46\n",
      "3          11353      Grace  2004      F    AK     44\n",
      "4          11354      Emily  2004      F    AK     41\n",
      "5          11355    Abigail  2004      F    AK     37\n",
      "6          11356     Olivia  2004      F    AK     33\n",
      "7          11357   Isabella  2004      F    AK     30\n",
      "8          11358     Alyssa  2004      F    AK     29\n",
      "9          11359     Sophia  2004      F    AK     28\n",
      "10         11360     Alexis  2004      F    AK     27\n",
      "11         11361  Elizabeth  2004      F    AK     27\n",
      "12         11362     Hailey  2004      F    AK     27\n",
      "13         11363       Anna  2004      F    AK     26\n",
      "14         11364    Natalie  2004      F    AK     25\n",
      "15         11365      Sarah  2004      F    AK     25\n",
      "16         11366     Sydney  2004      F    AK     25\n",
      "17         11367        Ava  2004      F    AK     23\n",
      "18         11368    Trinity  2004      F    AK     22\n",
      "19         11369      Haley  2004      F    AK     21\n",
      "20         11370     Kaylee  2004      F    AK     21\n",
      "21         11371     Taylor  2004      F    AK     21\n",
      "22         11372      Chloe  2004      F    AK     20\n",
      "23         11373       Ella  2004      F    AK     20\n",
      "24         11374  Mackenzie  2004      F    AK     20\n",
      "25         11375     Sierra  2004      F    AK     19\n",
      "26         11376      Kayla  2004      F    AK     18\n",
      "27         11377   Samantha  2004      F    AK     18\n",
      "28         11378        Zoe  2004      F    AK     18\n",
      "29         11379    Jessica  2004      F    AK     17\n",
      "...          ...        ...   ...    ...   ...    ...\n",
      "1016365  5647397     Brooks  2014      M    WY      5\n",
      "1016366  5647398     Calvin  2014      M    WY      5\n",
      "1016367  5647399    Cameron  2014      M    WY      5\n",
      "1016368  5647400     Dalton  2014      M    WY      5\n",
      "1016369  5647401     Dawson  2014      M    WY      5\n",
      "1016370  5647402     Edward  2014      M    WY      5\n",
      "1016371  5647403      Elias  2014      M    WY      5\n",
      "1016372  5647404       Gage  2014      M    WY      5\n",
      "1016373  5647405     Hayden  2014      M    WY      5\n",
      "1016374  5647406     Jasper  2014      M    WY      5\n",
      "1016375  5647407       Jose  2014      M    WY      5\n",
      "1016376  5647408     Kaiden  2014      M    WY      5\n",
      "1016377  5647409      Kaleb  2014      M    WY      5\n",
      "1016378  5647410      Kasen  2014      M    WY      5\n",
      "1016379  5647411      Kyson  2014      M    WY      5\n",
      "1016380  5647412      Lukas  2014      M    WY      5\n",
      "1016381  5647413      Myles  2014      M    WY      5\n",
      "1016382  5647414  Nathaniel  2014      M    WY      5\n",
      "1016383  5647415      Nolan  2014      M    WY      5\n",
      "1016384  5647416     Oakley  2014      M    WY      5\n",
      "1016385  5647417       Odin  2014      M    WY      5\n",
      "1016386  5647418     Paxton  2014      M    WY      5\n",
      "1016387  5647419    Raymond  2014      M    WY      5\n",
      "1016388  5647420    Richard  2014      M    WY      5\n",
      "1016389  5647421      Rowan  2014      M    WY      5\n",
      "1016390  5647422       Seth  2014      M    WY      5\n",
      "1016391  5647423    Spencer  2014      M    WY      5\n",
      "1016392  5647424       Tyce  2014      M    WY      5\n",
      "1016393  5647425     Victor  2014      M    WY      5\n",
      "1016394  5647426     Waylon  2014      M    WY      5\n",
      "\n",
      "[1016395 rows x 6 columns]\n"
     ]
    }
   ],
   "source": [
    "# Delete unnamed columns\n",
    "import pandas as pd\n",
    "url = 'https://raw.githubusercontent.com/guipsamora/pandas_exercises/master/06_Stats/US_Baby_Names/US_Baby_Names_right.csv'\n",
    "popu_data = pd.read_csv(url, sep = ',') \n",
    "del popu_data[\"Unnamed: 0\"]\n",
    "print(popu_data)"
   ]
  },
  {
   "cell_type": "code",
   "execution_count": 1,
   "metadata": {},
   "outputs": [
    {
     "name": "stdout",
     "output_type": "stream",
     "text": [
      "The distribution of Female and male \n",
      "\n",
      "            counts     freqs\n",
      "categories                  \n",
      "Female      558846  0.549832\n",
      "Male        457549  0.450168\n"
     ]
    }
   ],
   "source": [
    "# The distribution of male and female\n",
    "import pandas as pd\n",
    "url = 'https://raw.githubusercontent.com/guipsamora/pandas_exercises/master/06_Stats/US_Baby_Names/US_Baby_Names_right.csv'\n",
    "popu_data = pd.read_csv(url, sep = ',') \n",
    "categorical = popu_data.dtypes[popu_data.dtypes == \"object\"].index\n",
    "new_gender = pd.Categorical(popu_data[\"Gender\"])\n",
    "new_gender = new_gender.rename_categories([\"Female\",\"Male\"])\n",
    "print('The distribution of Female and male \\n')\n",
    "print(new_gender.describe())"
   ]
  },
  {
   "cell_type": "code",
   "execution_count": 2,
   "metadata": {},
   "outputs": [
    {
     "name": "stdout",
     "output_type": "stream",
     "text": [
      " The top 5 most preferred names \n",
      "\n",
      "         Name  count\n",
      "14062   Riley   1112\n",
      "2174    Avery   1080\n",
      "8500   Jordan   1073\n",
      "13459  Peyton   1064\n",
      "6584   Hayden   1049\n"
     ]
    }
   ],
   "source": [
    "# The top 5 most preferred names\n",
    "import pandas as pd\n",
    "\n",
    "url = 'https://raw.githubusercontent.com/guipsamora/pandas_exercises/master/06_Stats/US_Baby_Names/US_Baby_Names_right.csv'\n",
    "popu_data = pd.read_csv(url, sep = ',') \n",
    "print(' The top 5 most preferred names \\n')\n",
    "print(popu_data['Name'].groupby([popu_data['Name']]).count().reset_index(name='count').sort_values(['count'], ascending=False).head(5))"
   ]
  },
  {
   "cell_type": "code",
   "execution_count": 2,
   "metadata": {},
   "outputs": [
    {
     "name": "stdout",
     "output_type": "stream",
     "text": [
      "Name\n",
      "Riley     1112\n",
      "Avery     1080\n",
      "Jordan    1073\n",
      "Peyton    1064\n",
      "Hayden    1049\n",
      "Name: Name, dtype: int64\n"
     ]
    }
   ],
   "source": [
    "# The top 5 most preferred names\n",
    "import pandas as pd\n",
    "url = 'https://raw.githubusercontent.com/guipsamora/pandas_exercises/master/06_Stats/US_Baby_Names/US_Baby_Names_right.csv'\n",
    "popu_data = pd.read_csv(url, sep = ',') \n",
    "print(popu_data['Name'].groupby([popu_data['Name']]).count().nlargest(5))"
   ]
  },
  {
   "cell_type": "code",
   "execution_count": 7,
   "metadata": {},
   "outputs": [
    {
     "name": "stdout",
     "output_type": "stream",
     "text": [
      "         Name\n",
      "508197  Kasey\n"
     ]
    }
   ],
   "source": [
    "# Median name occurence in the dataset\n",
    "import pandas as pd\n",
    "\n",
    "url = 'https://raw.githubusercontent.com/guipsamora/pandas_exercises/master/06_Stats/US_Baby_Names/US_Baby_Names_right.csv'\n",
    "popu_data = pd.read_csv(url, sep = ',') ## press tab after pd.read<TAB> to find other file\n",
    "\n",
    "popu_data['Index_Column'] = range(0,len(popu_data))\n",
    "row_name = popu_data.loc[:,\"Index_Column\"].median()\n",
    "print(popu_data.iloc[[row_name],[2]])"
   ]
  },
  {
   "cell_type": "code",
   "execution_count": 8,
   "metadata": {},
   "outputs": [
    {
     "name": "stdout",
     "output_type": "stream",
     "text": [
      "\n",
      "Distribution of male and female born count by states\n",
      "-------------------------------------------------------\n",
      "Gender  State\n",
      "F       AK        2404\n",
      "        AL        9878\n",
      "        AR        7171\n",
      "        AZ       14518\n",
      "        CA       45144\n",
      "        CO       11424\n",
      "        CT        6575\n",
      "        DC        3053\n",
      "        DE        2549\n",
      "        FL       25781\n",
      "        GA       19385\n",
      "        HI        3255\n",
      "        IA        7131\n",
      "        ID        4918\n",
      "        IL       21268\n",
      "        IN       13056\n",
      "        KS        7753\n",
      "        KY        8817\n",
      "        LA       10510\n",
      "        MA       10580\n",
      "        MD       11276\n",
      "        ME        2976\n",
      "        MI       16038\n",
      "        MN       10677\n",
      "        MO       11948\n",
      "        MS        7235\n",
      "        MT        2690\n",
      "        NC       17357\n",
      "        ND        2399\n",
      "        NE        5370\n",
      "                 ...  \n",
      "M       ME        2777\n",
      "        MI       13243\n",
      "        MN        9004\n",
      "        MO        9917\n",
      "        MS        6862\n",
      "        MT        2986\n",
      "        NC       13530\n",
      "        ND        2581\n",
      "        NE        5029\n",
      "        NH        2659\n",
      "        NJ       12274\n",
      "        NM        4966\n",
      "        NV        6024\n",
      "        NY       22585\n",
      "        OH       14318\n",
      "        OK        8138\n",
      "        OR        7333\n",
      "        PA       14171\n",
      "        RI        2468\n",
      "        SC        8195\n",
      "        SD        2908\n",
      "        TN       10588\n",
      "        TX       27791\n",
      "        UT        8233\n",
      "        VA       11997\n",
      "        VT        1618\n",
      "        WA       11049\n",
      "        WI        8940\n",
      "        WV        3733\n",
      "        WY        1904\n",
      "Name: Gender, Length: 102, dtype: int64\n"
     ]
    }
   ],
   "source": [
    "# Distribution of male and female born count by states\n",
    "import pandas as pd\n",
    "url = 'https://raw.githubusercontent.com/guipsamora/pandas_exercises/master/06_Stats/US_Baby_Names/US_Baby_Names_right.csv'\n",
    "popu_data = pd.read_csv(url, sep = ',') ## press tab after pd.read<TAB> to find other file\n",
    "print(\"\\nDistribution of male and female born count by states\\n\",'-'*55, sep='')\n",
    "print(popu_data['Gender'].groupby([popu_data['Gender'], popu_data['State']]).count())"
   ]
  },
  {
   "cell_type": "code",
   "execution_count": null,
   "metadata": {},
   "outputs": [],
   "source": []
  }
 ],
 "metadata": {
  "kernelspec": {
   "display_name": "Python 3",
   "language": "python",
   "name": "python3"
  },
  "language_info": {
   "codemirror_mode": {
    "name": "ipython",
    "version": 3
   },
   "file_extension": ".py",
   "mimetype": "text/x-python",
   "name": "python",
   "nbconvert_exporter": "python",
   "pygments_lexer": "ipython3",
   "version": "3.6.5"
  }
 },
 "nbformat": 4,
 "nbformat_minor": 2
}
